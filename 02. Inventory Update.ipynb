{
 "cells": [
  {
   "cell_type": "markdown",
   "metadata": {},
   "source": [
    "# 02. [Inventory Update](https://www.freecodecamp.org/learn/coding-interview-prep/algorithms/inventory-update)\n",
    "\n",
    "Compare and update the inventory stored in a 2D array against a second 2D array of a fresh delivery. Update the current existing inventory item quantities (in arr1). If an item cannot be found, add the new item and quantity into the inventory array. The returned inventory array should be in alphabetical order by item.\n",
    "\n",
    "Link: https://www.freecodecamp.org/learn/coding-interview-prep/algorithms/inventory-update\n"
   ]
  },
  {
   "cell_type": "code",
   "execution_count": 3,
   "metadata": {},
   "outputs": [],
   "source": [
    "function updateInventory(arr1, arr2) {\n",
    "    // convert arr1 into object\n",
    "    const obj1 = arr2obj(arr1);\n",
    "\n",
    "    // iterate over array 2, check for each value.\n",
    "    for (let i=0; i<arr2.length; i++){\n",
    "        \n",
    "        const [amount, name] = arr2[i];\n",
    "        \n",
    "        // if there's an existing item (check by its property, then update accordingly)\n",
    "        if (obj1.hasOwnProperty(name)) {\n",
    "            obj1[name] = obj1[name]+amount;\n",
    "\n",
    "        } else { // if there is none, create new property\n",
    "            \n",
    "            obj1[name] = amount;\n",
    "        }\n",
    "    }\n",
    "\n",
    "    // convert back to array and sortby name, ascending\n",
    "    arr1 = obj2arr(obj1).sort(sortByName);\n",
    "\n",
    "    return arr1;\n",
    "}\n",
    "\n",
    "function sortByName(a, b){\n",
    "    return a[1]>b[1]\n",
    "}\n",
    "\n",
    "function obj2arr(obj){\n",
    "    let arr = []\n",
    "    for (const item in obj){\n",
    "        arr.push([obj[item], item])\n",
    "    }\n",
    "    return arr;\n",
    "}\n",
    "\n",
    "function arr2obj(arr){\n",
    "    let obj = arr.reduce( (acc, curr) => {\n",
    "                acc[curr[1]] = curr[0]; // cannot just return this line\n",
    "                return acc;\n",
    "                } , {})\n",
    "    return obj;\n",
    "}"
   ]
  },
  {
   "cell_type": "markdown",
   "metadata": {},
   "source": [
    "### Check the result"
   ]
  },
  {
   "cell_type": "code",
   "execution_count": 4,
   "metadata": {},
   "outputs": [
    {
     "data": {
      "text/plain": [
       "[\n",
       "  [ 88, 'Bowling Ball' ],\n",
       "  [ 2, 'Dirty Sock' ],\n",
       "  [ 3, 'Hair Pin' ],\n",
       "  [ 5, 'Microphone' ],\n",
       "  [ 3, 'Half-Eaten Apple' ],\n",
       "  [ 7, 'Toothpaste' ]\n",
       "]"
      ]
     },
     "execution_count": 4,
     "metadata": {},
     "output_type": "execute_result"
    }
   ],
   "source": [
    "updateInventory([[21, \"Bowling Ball\"], [2, \"Dirty Sock\"], [1, \"Hair Pin\"], [5, \"Microphone\"]], [[2, \"Hair Pin\"], [3, \"Half-Eaten Apple\"], [67, \"Bowling Ball\"], [7, \"Toothpaste\"]])"
   ]
  },
  {
   "cell_type": "code",
   "execution_count": null,
   "metadata": {},
   "outputs": [],
   "source": []
  }
 ],
 "metadata": {
  "kernelspec": {
   "display_name": "Javascript (Node.js)",
   "language": "javascript",
   "name": "javascript"
  },
  "language_info": {
   "file_extension": ".js",
   "mimetype": "application/javascript",
   "name": "javascript",
   "version": "15.3.0"
  }
 },
 "nbformat": 4,
 "nbformat_minor": 4
}
